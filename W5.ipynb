{
 "cells": [
  {
   "cell_type": "code",
   "execution_count": 2,
   "id": "c2236f15",
   "metadata": {},
   "outputs": [
    {
     "name": "stdout",
     "output_type": "stream",
     "text": [
      "Collecting findspark\n",
      "  Downloading findspark-2.0.1-py2.py3-none-any.whl (4.4 kB)\n",
      "Installing collected packages: findspark\n",
      "Successfully installed findspark-2.0.1\n"
     ]
    }
   ],
   "source": [
    "!pip install findspark\n",
    "import findspark\n",
    "findspark.init()"
   ]
  },
  {
   "cell_type": "code",
   "execution_count": 3,
   "id": "28fe0c6f",
   "metadata": {},
   "outputs": [],
   "source": [
    "import pyspark\n",
    "from pyspark.sql import SparkSession"
   ]
  },
  {
   "cell_type": "code",
   "execution_count": 4,
   "id": "6f06221f",
   "metadata": {},
   "outputs": [
    {
     "name": "stderr",
     "output_type": "stream",
     "text": [
      "WARNING: An illegal reflective access operation has occurred\n",
      "WARNING: Illegal reflective access by org.apache.spark.unsafe.Platform (file:/home/pop/spark/spark-3.0.3-bin-hadoop3.2/jars/spark-unsafe_2.12-3.0.3.jar) to constructor java.nio.DirectByteBuffer(long,int)\n",
      "WARNING: Please consider reporting this to the maintainers of org.apache.spark.unsafe.Platform\n",
      "WARNING: Use --illegal-access=warn to enable warnings of further illegal reflective access operations\n",
      "WARNING: All illegal access operations will be denied in a future release\n",
      "22/03/01 05:03:04 WARN NativeCodeLoader: Unable to load native-hadoop library for your platform... using builtin-java classes where applicable\n",
      "Using Spark's default log4j profile: org/apache/spark/log4j-defaults.properties\n",
      "Setting default log level to \"WARN\".\n",
      "To adjust logging level use sc.setLogLevel(newLevel). For SparkR, use setLogLevel(newLevel).\n",
      "22/03/01 05:03:05 WARN Utils: Service 'SparkUI' could not bind on port 4040. Attempting port 4041.\n"
     ]
    }
   ],
   "source": [
    "spark = SparkSession.builder \\\n",
    "    .master(\"local[*]\") \\\n",
    "    .appName('test') \\\n",
    "    .getOrCreate()"
   ]
  },
  {
   "cell_type": "markdown",
   "id": "5bf15e0c",
   "metadata": {},
   "source": [
    "# Q1"
   ]
  },
  {
   "cell_type": "code",
   "execution_count": 5,
   "id": "835fcccb",
   "metadata": {},
   "outputs": [
    {
     "data": {
      "text/plain": [
       "'3.0.3'"
      ]
     },
     "execution_count": 5,
     "metadata": {},
     "output_type": "execute_result"
    }
   ],
   "source": [
    "spark.version"
   ]
  },
  {
   "cell_type": "markdown",
   "id": "d774f358",
   "metadata": {},
   "source": [
    "# Q2"
   ]
  },
  {
   "cell_type": "code",
   "execution_count": 6,
   "id": "cf6f148e",
   "metadata": {},
   "outputs": [
    {
     "name": "stdout",
     "output_type": "stream",
     "text": [
      "--2022-03-01 05:03:49--  https://nyc-tlc.s3.amazonaws.com/trip+data/fhvhv_tripdata_2021-02.csv\n",
      "Resolving nyc-tlc.s3.amazonaws.com (nyc-tlc.s3.amazonaws.com)... 52.216.251.116\n",
      "Connecting to nyc-tlc.s3.amazonaws.com (nyc-tlc.s3.amazonaws.com)|52.216.251.116|:443... connected.\n",
      "HTTP request sent, awaiting response... 200 OK\n",
      "Length: 733822658 (700M) [text/csv]\n",
      "Saving to: ‘fhvhv_tripdata_2021-02.csv’\n",
      "\n",
      "fhvhv_tripdata_2021 100%[===================>] 699.83M  46.3MB/s    in 16s     \n",
      "\n",
      "2022-03-01 05:04:06 (44.0 MB/s) - ‘fhvhv_tripdata_2021-02.csv’ saved [733822658/733822658]\n",
      "\n"
     ]
    }
   ],
   "source": [
    "!wget https://nyc-tlc.s3.amazonaws.com/trip+data/fhvhv_tripdata_2021-02.csv"
   ]
  },
  {
   "cell_type": "code",
   "execution_count": 7,
   "id": "692f3dd8",
   "metadata": {},
   "outputs": [],
   "source": [
    "df = spark.read \\\n",
    "    .option(\"header\", \"true\") \\\n",
    "    .csv('fhvhv_tripdata_2021-02.csv')"
   ]
  },
  {
   "cell_type": "code",
   "execution_count": 11,
   "id": "c2d7f908",
   "metadata": {},
   "outputs": [
    {
     "name": "stdout",
     "output_type": "stream",
     "text": [
      "StructType(List(StructField(hvfhs_license_num,StringType,true),StructField(dispatching_base_num,StringType,true),StructField(pickup_datetime,StringType,true),StructField(dropoff_datetime,StringType,true),StructField(PULocationID,StringType,true),StructField(DOLocationID,StringType,true),StructField(SR_Flag,StringType,true)))\n"
     ]
    }
   ],
   "source": [
    "df.schema"
   ]
  },
  {
   "cell_type": "code",
   "execution_count": 9,
   "id": "aa2810c2",
   "metadata": {},
   "outputs": [],
   "source": [
    "from pyspark.sql import types"
   ]
  },
  {
   "cell_type": "code",
   "execution_count": 12,
   "id": "92a54833",
   "metadata": {},
   "outputs": [],
   "source": [
    "schema = types.StructType([\n",
    "    types.StructField('hvfhs_license_num', types.StringType(), True),\n",
    "    types.StructField('dispatching_base_num', types.StringType(), True),\n",
    "    types.StructField('pickup_datetime', types.TimestampType(), True),\n",
    "    types.StructField('dropoff_datetime', types.TimestampType(), True),\n",
    "    types.StructField('PULocationID', types.IntegerType(), True),\n",
    "    types.StructField('DOLocationID', types.IntegerType(), True),\n",
    "    types.StructField('SR_Flag', types.StringType(), True)\n",
    "])"
   ]
  },
  {
   "cell_type": "code",
   "execution_count": 13,
   "id": "e74c0b87",
   "metadata": {},
   "outputs": [],
   "source": [
    "df = spark.read \\\n",
    "    .option(\"header\", \"true\") \\\n",
    "    .schema(schema) \\\n",
    "    .csv('fhvhv_tripdata_2021-02.csv')"
   ]
  },
  {
   "cell_type": "code",
   "execution_count": 14,
   "id": "ec627de2",
   "metadata": {},
   "outputs": [],
   "source": [
    "df = df.repartition(24)"
   ]
  },
  {
   "cell_type": "code",
   "execution_count": 16,
   "id": "799cb6de",
   "metadata": {},
   "outputs": [
    {
     "name": "stderr",
     "output_type": "stream",
     "text": [
      "                                                                                \r"
     ]
    }
   ],
   "source": [
    "df.write.parquet('fhvhv/2021/02/')"
   ]
  },
  {
   "cell_type": "code",
   "execution_count": 17,
   "id": "978056d8",
   "metadata": {},
   "outputs": [
    {
     "name": "stdout",
     "output_type": "stream",
     "text": [
      "fhvhv/2021/02/:\r\n",
      "total 208M\r\n",
      "-rw-r--r-- 1 pop pop    0 Mar  1 05:10 _SUCCESS\r\n",
      "-rw-r--r-- 1 pop pop 8.7M Mar  1 05:10 part-00000-4e803433-c34f-4562-b7cc-15dc2671acca-c000.snappy.parquet\r\n",
      "-rw-r--r-- 1 pop pop 8.7M Mar  1 05:10 part-00001-4e803433-c34f-4562-b7cc-15dc2671acca-c000.snappy.parquet\r\n",
      "-rw-r--r-- 1 pop pop 8.7M Mar  1 05:10 part-00002-4e803433-c34f-4562-b7cc-15dc2671acca-c000.snappy.parquet\r\n",
      "-rw-r--r-- 1 pop pop 8.7M Mar  1 05:10 part-00003-4e803433-c34f-4562-b7cc-15dc2671acca-c000.snappy.parquet\r\n",
      "-rw-r--r-- 1 pop pop 8.7M Mar  1 05:10 part-00004-4e803433-c34f-4562-b7cc-15dc2671acca-c000.snappy.parquet\r\n",
      "-rw-r--r-- 1 pop pop 8.7M Mar  1 05:10 part-00005-4e803433-c34f-4562-b7cc-15dc2671acca-c000.snappy.parquet\r\n",
      "-rw-r--r-- 1 pop pop 8.7M Mar  1 05:10 part-00006-4e803433-c34f-4562-b7cc-15dc2671acca-c000.snappy.parquet\r\n",
      "-rw-r--r-- 1 pop pop 8.7M Mar  1 05:10 part-00007-4e803433-c34f-4562-b7cc-15dc2671acca-c000.snappy.parquet\r\n",
      "-rw-r--r-- 1 pop pop 8.7M Mar  1 05:10 part-00008-4e803433-c34f-4562-b7cc-15dc2671acca-c000.snappy.parquet\r\n",
      "-rw-r--r-- 1 pop pop 8.7M Mar  1 05:10 part-00009-4e803433-c34f-4562-b7cc-15dc2671acca-c000.snappy.parquet\r\n",
      "-rw-r--r-- 1 pop pop 8.7M Mar  1 05:10 part-00010-4e803433-c34f-4562-b7cc-15dc2671acca-c000.snappy.parquet\r\n",
      "-rw-r--r-- 1 pop pop 8.7M Mar  1 05:10 part-00011-4e803433-c34f-4562-b7cc-15dc2671acca-c000.snappy.parquet\r\n",
      "-rw-r--r-- 1 pop pop 8.7M Mar  1 05:10 part-00012-4e803433-c34f-4562-b7cc-15dc2671acca-c000.snappy.parquet\r\n",
      "-rw-r--r-- 1 pop pop 8.7M Mar  1 05:10 part-00013-4e803433-c34f-4562-b7cc-15dc2671acca-c000.snappy.parquet\r\n",
      "-rw-r--r-- 1 pop pop 8.7M Mar  1 05:10 part-00014-4e803433-c34f-4562-b7cc-15dc2671acca-c000.snappy.parquet\r\n",
      "-rw-r--r-- 1 pop pop 8.7M Mar  1 05:10 part-00015-4e803433-c34f-4562-b7cc-15dc2671acca-c000.snappy.parquet\r\n",
      "-rw-r--r-- 1 pop pop 8.7M Mar  1 05:10 part-00016-4e803433-c34f-4562-b7cc-15dc2671acca-c000.snappy.parquet\r\n",
      "-rw-r--r-- 1 pop pop 8.7M Mar  1 05:10 part-00017-4e803433-c34f-4562-b7cc-15dc2671acca-c000.snappy.parquet\r\n",
      "-rw-r--r-- 1 pop pop 8.7M Mar  1 05:10 part-00018-4e803433-c34f-4562-b7cc-15dc2671acca-c000.snappy.parquet\r\n",
      "-rw-r--r-- 1 pop pop 8.7M Mar  1 05:10 part-00019-4e803433-c34f-4562-b7cc-15dc2671acca-c000.snappy.parquet\r\n",
      "-rw-r--r-- 1 pop pop 8.7M Mar  1 05:10 part-00020-4e803433-c34f-4562-b7cc-15dc2671acca-c000.snappy.parquet\r\n",
      "-rw-r--r-- 1 pop pop 8.7M Mar  1 05:10 part-00021-4e803433-c34f-4562-b7cc-15dc2671acca-c000.snappy.parquet\r\n",
      "-rw-r--r-- 1 pop pop 8.7M Mar  1 05:10 part-00022-4e803433-c34f-4562-b7cc-15dc2671acca-c000.snappy.parquet\r\n",
      "-rw-r--r-- 1 pop pop 8.7M Mar  1 05:10 part-00023-4e803433-c34f-4562-b7cc-15dc2671acca-c000.snappy.parquet\r\n"
     ]
    }
   ],
   "source": [
    "!ls -lhR fhvhv/2021/02/"
   ]
  },
  {
   "cell_type": "markdown",
   "id": "0eff31d9",
   "metadata": {},
   "source": [
    "# Q3"
   ]
  },
  {
   "cell_type": "code",
   "execution_count": 18,
   "id": "83af3b04",
   "metadata": {},
   "outputs": [],
   "source": [
    "from pyspark.sql import functions as F"
   ]
  },
  {
   "cell_type": "code",
   "execution_count": 25,
   "id": "e39b96b5",
   "metadata": {},
   "outputs": [],
   "source": [
    "df_mod = df \\\n",
    "    .withColumn('pickup_date', F.to_date(df.pickup_datetime)) \\\n",
    "    .withColumn('dropoff_date', F.to_date(df.dropoff_datetime)) \\\n",
    "    .select('pickup_date', 'dropoff_date', 'PULocationID', 'DOLocationID')"
   ]
  },
  {
   "cell_type": "code",
   "execution_count": 33,
   "id": "40d4fda3",
   "metadata": {},
   "outputs": [
    {
     "name": "stderr",
     "output_type": "stream",
     "text": [
      "[Stage 9:=================================================>         (5 + 1) / 6]\r"
     ]
    },
    {
     "name": "stdout",
     "output_type": "stream",
     "text": [
      "No. of Records Starting on Feb 15: 367170\n"
     ]
    },
    {
     "name": "stderr",
     "output_type": "stream",
     "text": [
      "                                                                                \r"
     ]
    }
   ],
   "source": [
    "df_feb15 = df_mod.filter(\"pickup_date == '2021-02-15'\")\n",
    "print(f'No. of Records Starting on Feb 15: {df_feb15.count()}')"
   ]
  },
  {
   "cell_type": "markdown",
   "id": "11a086bb",
   "metadata": {},
   "source": [
    "# Q4"
   ]
  },
  {
   "cell_type": "code",
   "execution_count": 41,
   "id": "31bfdbf8",
   "metadata": {},
   "outputs": [],
   "source": [
    "df_mod_q4 = df \\\n",
    "    .withColumn('pickup_date', F.to_date(df.pickup_datetime)) \\\n",
    "    .withColumn('duration', (F.unix_timestamp(df.dropoff_datetime) - F.unix_timestamp(df.pickup_datetime)))"
   ]
  },
  {
   "cell_type": "code",
   "execution_count": 43,
   "id": "1a0c87a3",
   "metadata": {},
   "outputs": [
    {
     "data": {
      "text/plain": [
       "DataFrame[hvfhs_license_num: string, dispatching_base_num: string, pickup_datetime: timestamp, dropoff_datetime: timestamp, PULocationID: int, DOLocationID: int, SR_Flag: string, pickup_date: date, duration: bigint]"
      ]
     },
     "execution_count": 43,
     "metadata": {},
     "output_type": "execute_result"
    }
   ],
   "source": [
    "df_mod_q4"
   ]
  },
  {
   "cell_type": "code",
   "execution_count": 44,
   "id": "56387eb7",
   "metadata": {},
   "outputs": [
    {
     "name": "stderr",
     "output_type": "stream",
     "text": [
      "[Stage 15:============================================>           (19 + 4) / 24]\r"
     ]
    },
    {
     "name": "stdout",
     "output_type": "stream",
     "text": [
      "+-----------+--------+\n",
      "|pickup_date|duration|\n",
      "+-----------+--------+\n",
      "| 2021-02-11|   75540|\n",
      "| 2021-02-17|   57221|\n",
      "| 2021-02-20|   44039|\n",
      "| 2021-02-03|   40653|\n",
      "| 2021-02-19|   37577|\n",
      "| 2021-02-25|   35010|\n",
      "| 2021-02-20|   34806|\n",
      "| 2021-02-18|   34612|\n",
      "| 2021-02-18|   34555|\n",
      "| 2021-02-10|   34169|\n",
      "| 2021-02-10|   32476|\n",
      "| 2021-02-25|   32439|\n",
      "| 2021-02-21|   32223|\n",
      "| 2021-02-09|   32087|\n",
      "| 2021-02-06|   31447|\n",
      "| 2021-02-02|   30913|\n",
      "| 2021-02-10|   30856|\n",
      "| 2021-02-09|   30732|\n",
      "| 2021-02-21|   30660|\n",
      "| 2021-02-05|   30511|\n",
      "+-----------+--------+\n",
      "only showing top 20 rows\n",
      "\n"
     ]
    },
    {
     "name": "stderr",
     "output_type": "stream",
     "text": [
      "                                                                                \r"
     ]
    }
   ],
   "source": [
    "df_mod_q4 \\\n",
    "    .select('pickup_date', 'duration') \\\n",
    "    .sort(df_mod_q4.duration.desc()) \\\n",
    "    .show()"
   ]
  },
  {
   "cell_type": "markdown",
   "id": "e1f7fe23",
   "metadata": {},
   "source": [
    "# Q5"
   ]
  },
  {
   "cell_type": "code",
   "execution_count": 45,
   "id": "1c517421",
   "metadata": {},
   "outputs": [],
   "source": [
    "df.registerTempTable('trips_data')"
   ]
  },
  {
   "cell_type": "code",
   "execution_count": 48,
   "id": "4569edb0",
   "metadata": {},
   "outputs": [
    {
     "name": "stderr",
     "output_type": "stream",
     "text": [
      "[Stage 47:============================================>           (19 + 4) / 24]\r"
     ]
    },
    {
     "name": "stdout",
     "output_type": "stream",
     "text": [
      "+-------------------+-------------------+--------+\n",
      "|    pickup_datetime|   dropoff_datetime|duration|\n",
      "+-------------------+-------------------+--------+\n",
      "|2021-02-11 13:40:44|2021-02-12 10:39:44|   75540|\n",
      "|2021-02-17 15:54:53|2021-02-18 07:48:34|   57221|\n",
      "|2021-02-20 12:08:15|2021-02-21 00:22:14|   44039|\n",
      "|2021-02-03 20:24:25|2021-02-04 07:41:58|   40653|\n",
      "|2021-02-19 23:17:44|2021-02-20 09:44:01|   37577|\n",
      "|2021-02-25 17:13:35|2021-02-26 02:57:05|   35010|\n",
      "|2021-02-20 01:36:13|2021-02-20 11:16:19|   34806|\n",
      "|2021-02-18 15:24:19|2021-02-19 01:01:11|   34612|\n",
      "|2021-02-18 01:31:20|2021-02-18 11:07:15|   34555|\n",
      "|2021-02-10 20:51:39|2021-02-11 06:21:08|   34169|\n",
      "+-------------------+-------------------+--------+\n",
      "\n"
     ]
    },
    {
     "name": "stderr",
     "output_type": "stream",
     "text": [
      "                                                                                \r"
     ]
    }
   ],
   "source": [
    "spark.sql(\"\"\"\n",
    "SELECT\n",
    "    pickup_datetime,\n",
    "    dropoff_datetime,\n",
    "    unix_timestamp(dropoff_datetime) - unix_timestamp(pickup_datetime) AS duration \n",
    "FROM\n",
    "    trips_data\n",
    "ORDER BY\n",
    "    duration DESC\n",
    "LIMIT\n",
    "    10\n",
    "\"\"\").show()"
   ]
  },
  {
   "cell_type": "code",
   "execution_count": 49,
   "id": "53c33de0",
   "metadata": {},
   "outputs": [
    {
     "name": "stderr",
     "output_type": "stream",
     "text": [
      "[Stage 51:==============================================>       (171 + 4) / 200]\r"
     ]
    },
    {
     "name": "stdout",
     "output_type": "stream",
     "text": [
      "+--------------------+-------+\n",
      "|dispatching_base_num|  count|\n",
      "+--------------------+-------+\n",
      "|              B02510|3233664|\n",
      "|              B02764| 965568|\n",
      "|              B02872| 882689|\n",
      "|              B02875| 685390|\n",
      "|              B02765| 559768|\n",
      "|              B02869| 429720|\n",
      "|              B02887| 322331|\n",
      "|              B02871| 312364|\n",
      "|              B02864| 311603|\n",
      "|              B02866| 311089|\n",
      "+--------------------+-------+\n",
      "\n"
     ]
    },
    {
     "name": "stderr",
     "output_type": "stream",
     "text": [
      "                                                                                \r"
     ]
    }
   ],
   "source": [
    "spark.sql(\"\"\"\n",
    "SELECT\n",
    "    dispatching_base_num,\n",
    "    count(*) as count\n",
    "FROM\n",
    "    trips_data\n",
    "GROUP BY \n",
    "    dispatching_base_num\n",
    "ORDER BY\n",
    "    count DESC\n",
    "LIMIT\n",
    "    10\n",
    "\"\"\").show()"
   ]
  },
  {
   "cell_type": "markdown",
   "id": "94213677",
   "metadata": {},
   "source": [
    "# Q6"
   ]
  },
  {
   "cell_type": "code",
   "execution_count": 50,
   "id": "245481da",
   "metadata": {},
   "outputs": [
    {
     "name": "stdout",
     "output_type": "stream",
     "text": [
      "--2022-03-01 06:36:24--  https://s3.amazonaws.com/nyc-tlc/misc/taxi+_zone_lookup.csv\n",
      "Resolving s3.amazonaws.com (s3.amazonaws.com)... 54.231.159.24\n",
      "Connecting to s3.amazonaws.com (s3.amazonaws.com)|54.231.159.24|:443... connected.\n",
      "HTTP request sent, awaiting response... 200 OK\n",
      "Length: 12322 (12K) [application/octet-stream]\n",
      "Saving to: ‘taxi+_zone_lookup.csv’\n",
      "\n",
      "taxi+_zone_lookup.c 100%[===================>]  12.03K  --.-KB/s    in 0s      \n",
      "\n",
      "2022-03-01 06:36:24 (114 MB/s) - ‘taxi+_zone_lookup.csv’ saved [12322/12322]\n",
      "\n"
     ]
    }
   ],
   "source": [
    "!wget https://s3.amazonaws.com/nyc-tlc/misc/taxi+_zone_lookup.csv"
   ]
  },
  {
   "cell_type": "code",
   "execution_count": 51,
   "id": "642fe12e",
   "metadata": {},
   "outputs": [],
   "source": [
    "dfz = spark.read \\\n",
    "    .option(\"header\", \"true\") \\\n",
    "    .csv('taxi+_zone_lookup.csv')"
   ]
  },
  {
   "cell_type": "code",
   "execution_count": 52,
   "id": "cf194a49",
   "metadata": {},
   "outputs": [],
   "source": [
    "dfz.write.parquet('zones')"
   ]
  },
  {
   "cell_type": "code",
   "execution_count": 53,
   "id": "9e70c3f8",
   "metadata": {},
   "outputs": [],
   "source": [
    "df_zones = spark.read.parquet('zones/')"
   ]
  },
  {
   "cell_type": "code",
   "execution_count": 55,
   "id": "ca58fced",
   "metadata": {},
   "outputs": [],
   "source": [
    "df_zones.registerTempTable('zones_data')"
   ]
  },
  {
   "cell_type": "code",
   "execution_count": 78,
   "id": "4ca9a521",
   "metadata": {},
   "outputs": [
    {
     "name": "stderr",
     "output_type": "stream",
     "text": [
      "[Stage 67:=======================================>              (146 + 4) / 200]\r"
     ]
    },
    {
     "name": "stdout",
     "output_type": "stream",
     "text": [
      "+-----------------------------------------+-----+\n",
      "|pd                                       |count|\n",
      "+-----------------------------------------+-----+\n",
      "|East New York / East New York            |45041|\n",
      "|Borough Park / Borough Park              |37329|\n",
      "|Canarsie / Canarsie                      |28026|\n",
      "|Crown Heights North / Crown Heights North|25976|\n",
      "|Bay Ridge / Bay Ridge                    |17934|\n",
      "+-----------------------------------------+-----+\n",
      "\n"
     ]
    },
    {
     "name": "stderr",
     "output_type": "stream",
     "text": [
      "                                                                                \r"
     ]
    }
   ],
   "source": [
    "spark.sql(\"\"\"\n",
    "SELECT\n",
    "    CONCAT(zpu.zone, ' / ', zdo.zone) as pd,\n",
    "    COUNT(*) as count\n",
    "FROM\n",
    "    trips_data t,\n",
    "    zones_data zpu,\n",
    "    zones_data zdo\n",
    " WHERE\n",
    "    t.PULocationID = zpu.LocationID AND\n",
    "    t.DOLocationID = zdo.LocationID\n",
    "GROUP BY\n",
    "    pd\n",
    "ORDER BY\n",
    "    count DESC\n",
    "LIMIT \n",
    "    5;\n",
    "\"\"\").show(truncate=False)"
   ]
  }
 ],
 "metadata": {
  "kernelspec": {
   "display_name": "Python 3 (ipykernel)",
   "language": "python",
   "name": "python3"
  },
  "language_info": {
   "codemirror_mode": {
    "name": "ipython",
    "version": 3
   },
   "file_extension": ".py",
   "mimetype": "text/x-python",
   "name": "python",
   "nbconvert_exporter": "python",
   "pygments_lexer": "ipython3",
   "version": "3.8.10"
  }
 },
 "nbformat": 4,
 "nbformat_minor": 5
}
